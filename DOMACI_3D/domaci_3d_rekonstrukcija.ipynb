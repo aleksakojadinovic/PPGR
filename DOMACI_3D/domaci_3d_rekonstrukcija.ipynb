{
 "cells": [
  {
   "cell_type": "code",
   "execution_count": 297,
   "metadata": {},
   "outputs": [],
   "source": [
    "import numpy as np\n",
    "import numpy.linalg as la"
   ]
  },
  {
   "cell_type": "code",
   "execution_count": 298,
   "metadata": {},
   "outputs": [],
   "source": [
    "points_left = [[958, 38, 1],\n",
    "               [1117, 111, 1],\n",
    "               [874, 285, 1],\n",
    "               [707, 218, 1],\n",
    "               [292, 569, 1],\n",
    "               [770, 969, 1],\n",
    "               [770, 1465, 1],\n",
    "               [317, 1057, 1]]\n",
    "points_right = [[933, 33, 1],\n",
    "                [1027, 132, 1],\n",
    "                [692, 223, 1],\n",
    "                [595, 123, 1],\n",
    "                [272, 360, 1],\n",
    "                [432, 814, 1],\n",
    "                [414, 1284, 1],\n",
    "                [258, 818, 1]]\n",
    "\n",
    "points_left = np.array(points_left)\n",
    "points_right = np.array(points_right)\n",
    "\n",
    "\n",
    "zipp = list(zip(points_left, points_right))\n",
    "x1, y1 = zipp[0]\n",
    "x2, y2 = zipp[1]\n",
    "x3, y3 = zipp[2]\n",
    "x4, y4 = zipp[3]\n",
    "x9, y9 = zipp[4]\n",
    "x10, y10 = zipp[5]\n",
    "x11, y11 = zipp[6]\n",
    "x12, y12 = zipp[7]\n",
    "\n",
    "x6 = np.array([1094, 536, 1.])\n",
    "y6 = np.array([980, 535, 1.])\n",
    "x7 = np.array([862, 729, 1.])\n",
    "y7 = np.array([652, 638, 1.])\n",
    "x8 = np.array([710, 648, 1.])\n",
    "y8 = np.array([567, 532, 1.])\n",
    "x14 = np.array([1487, 598, 1.])\n",
    "y14 = np.array([1303, 700, 1.])\n",
    "x15 = np.array([1462, 1079, 1.])\n",
    "y15 = np.array([1257, 1165, 1.])\n",
    "y13 = np.array([1077, 269, 1.])\n"
   ]
  },
  {
   "cell_type": "code",
   "execution_count": 299,
   "metadata": {},
   "outputs": [
    {
     "output_type": "stream",
     "name": "stdout",
     "text": [
      "LEVA \t--> DESNA: \n==================================\n(958, 38, 1) \t--> (933, 33, 1)\n(1117, 111, 1) \t--> (1027, 132, 1)\n(874, 285, 1) \t--> (692, 223, 1)\n(707, 218, 1) \t--> (595, 123, 1)\n(292, 569, 1) \t--> (272, 360, 1)\n(770, 969, 1) \t--> (432, 814, 1)\n(770, 1465, 1) \t--> (414, 1284, 1)\n(317, 1057, 1) \t--> (258, 818, 1)\n"
     ]
    }
   ],
   "source": [
    "print('LEVA \\t--> DESNA: ', '==================================', sep='\\n')\n",
    "print('\\n'.join([f'{(a[0], a[1], a[2])} \\t--> {(b[0], b[1], b[2])}' for a, b in zip(points_left, points_right)]))\n"
   ]
  },
  {
   "cell_type": "code",
   "execution_count": 300,
   "metadata": {},
   "outputs": [],
   "source": [
    "def to_pixel_coords(x):\n",
    "    return np.round(x/x[2])\n",
    "\n",
    "def to_affine(x):\n",
    "    return (x/x[-1])[:-1]"
   ]
  },
  {
   "cell_type": "code",
   "execution_count": 301,
   "metadata": {},
   "outputs": [],
   "source": [
    "def get_vec_product_matrix(v):\n",
    "    p1, p2, p3 = v\n",
    "    return np.array([[0, -p3, p2],\n",
    "                     [p3, 0, -p1],\n",
    "                     [-p2, p1, 0]])"
   ]
  },
  {
   "cell_type": "code",
   "execution_count": 302,
   "metadata": {},
   "outputs": [],
   "source": [
    "def get_eq(x, y):\n",
    "    a1, a2, a3 = x\n",
    "    b1, b2, b3 = y\n",
    "    return np.array([a1*b1, a2*b1, a3*b1, a1*b2, a2*b2, a3*b2, a1*b3, a2*b3, a3*b3])\n",
    "    "
   ]
  },
  {
   "cell_type": "code",
   "execution_count": 303,
   "metadata": {},
   "outputs": [],
   "source": [
    "def get_f_system(xs, ys):\n",
    "    return np.array([get_eq(x, y) for x, y in zip(xs, ys)])"
   ]
  },
  {
   "cell_type": "code",
   "execution_count": 304,
   "metadata": {},
   "outputs": [],
   "source": [
    "### Returns fundamental matrix\n",
    "def solve_system_matrix(M):\n",
    "    u, d, v = la.svd(M)\n",
    "    return np.reshape(v[-1], (3, 3))\n"
   ]
  },
  {
   "cell_type": "code",
   "execution_count": 305,
   "metadata": {},
   "outputs": [],
   "source": [
    "def get_epipoles_and_new_F(F):\n",
    "    u, d, v = la.svd(F)\n",
    "    e1 = v[-1]\n",
    "    e2 = u.T[-1]\n",
    "    e1 = (1.0/e1[2])*e1\n",
    "    e2 = (1.0/e2[2])*e2\n",
    "\n",
    "    d1 = np.diag([1, 1, 0]) @ d\n",
    "    d1 = np.diag(d1)\n",
    "    f1 = u @ d1 @ v\n",
    "    return e1, e2, f1"
   ]
  },
  {
   "cell_type": "code",
   "execution_count": 306,
   "metadata": {},
   "outputs": [],
   "source": [
    "def get_T1():\n",
    "    return np.hstack((np.eye(3), np.array([[0], [0], [0]])))\n",
    "\n",
    "def get_T2(F, e2):\n",
    "    return np.hstack((get_vec_product_matrix(e2) @ F, [[e2[0]], [e2[1]], [e2[2]]]))\n"
   ]
  },
  {
   "cell_type": "code",
   "execution_count": 307,
   "metadata": {},
   "outputs": [],
   "source": [
    "def the_cross(a, b, c, d, e, f, g, h, i, j):\n",
    "    ab = np.cross(a, b)\n",
    "    cd = np.cross(c, d)\n",
    "    abcde = np.cross(np.cross(ab, cd), e)\n",
    "    fg = np.cross(f, g)\n",
    "    hi = np.cross(h, i)\n",
    "    fghij = np.cross(np.cross(fg, hi), j)\n",
    "    return np.cross(abcde, fghij)\n",
    "    "
   ]
  },
  {
   "cell_type": "code",
   "execution_count": 308,
   "metadata": {},
   "outputs": [],
   "source": [
    "def get_triang_eq(xx, yy, T1, T2):\n",
    "    return np.array([xx[1]*T1[2] - xx[2]*T1[1], -xx[0]*T1[2] + xx[2]*T1[0], yy[1]*T2[2] - yy[2]*T2[1], -yy[0]*T2[2] + yy[2]*T2[0]])\n",
    "\n"
   ]
  },
  {
   "cell_type": "code",
   "execution_count": 309,
   "metadata": {},
   "outputs": [],
   "source": [
    "def get_3d_rec(xx, yy, T1, T2):\n",
    "    # print(f'Pokrenuto za {xx, yy}')\n",
    "    # print(f'get_triang_eq(xx, yy, T1, T2) = {get_triang_eq(xx, yy, T1, T2)}')\n",
    "    # print(f'la.svd(get_triang_eq(xx, yy, T1, T2)) = {la.svd(get_triang_eq(xx, yy, T1, T2))}')\n",
    "    # print(f'la.svd(get_triang_eq(xx, yy, T1, T2))[-1][-1] = {la.svd(get_triang_eq(xx, yy, T1, T2))[-1][-1]}')\n",
    "    # print(f'to_affine(la.svd(get_triang_eq(xx, yy, T1, T2))[-1][-1]) = {to_affine(la.svd(get_triang_eq(xx, yy, T1, T2))[-1][-1])}')\n",
    "    return to_affine(la.svd(get_triang_eq(xx, yy, T1, T2))[-1][-1])\n",
    "    "
   ]
  },
  {
   "cell_type": "code",
   "execution_count": 310,
   "metadata": {},
   "outputs": [],
   "source": [
    "F = solve_system_matrix(get_f_system(points_left, points_right))\n",
    "e1, e2, FF = get_epipoles_and_new_F(F)"
   ]
  },
  {
   "cell_type": "code",
   "execution_count": 311,
   "metadata": {},
   "outputs": [],
   "source": [
    "x5  = the_cross(x4, x8, x6, x2, x1, x1, x4, x3, x2, x8)\n",
    "x13 = the_cross(x9, x10, x11, x12, x14, x11, x15, x10, x14, x9)\n",
    "x16 = the_cross(x10, x14, x11, x15, x12, x9, x10, x11, x12, x15)\n",
    "y5  = the_cross(y4, y8, y6, y2, y1, y1, y4, y3, y2, y8)\n",
    "y16 = the_cross(y10, y14, y11, y15, y12, y9, y10, y11, y12, y15)"
   ]
  },
  {
   "cell_type": "code",
   "execution_count": 312,
   "metadata": {},
   "outputs": [],
   "source": [
    "img1 = [x1, x2, x3, x4, x5, x6, x7, x8, x9, x10, x11, x12, x13, x14, x15, x16]\n",
    "img2 = [y1, y2, y3, y4, y5, y6, y7, y8, y9, y10, y11, y12, y13, y14, y15, y16]"
   ]
  },
  {
   "cell_type": "code",
   "execution_count": 317,
   "metadata": {},
   "outputs": [
    {
     "output_type": "stream",
     "name": "stdout",
     "text": [
      "Multiplying\n[[  1   0   0]\n [  0   1   0]\n [  0   0 400]]\nwith\n[491.84353036   1.59313908   0.50901647]\nMultiplying\n[[  1   0   0]\n [  0   1   0]\n [  0   0 400]]\nwith\n[5.04614316e+02 2.83555175e+01 4.47171241e-01]\nMultiplying\n[[  1   0   0]\n [  0   1   0]\n [  0   0 400]]\nwith\n[462.90170064 132.73681428   0.52557536]\nMultiplying\n[[  1   0   0]\n [  0   1   0]\n [  0   0 400]]\nwith\n[451.53824135 124.86509964   0.63476922]\nMultiplying\n[[  1   0   0]\n [  0   1   0]\n [  0   0 400]]\nwith\n[383.93229516 128.68942693   0.38701313]\nMultiplying\n[[  1   0   0]\n [  0   1   0]\n [  0   0 400]]\nwith\n[4.02597956e+02 1.34081479e+02 3.52730610e-01]\nMultiplying\n[[  1   0   0]\n [  0   1   0]\n [  0   0 400]]\nwith\n[341.96774372 238.66413756   0.38548329]\nMultiplying\n[[  1   0   0]\n [  0   1   0]\n [  0   0 400]]\nwith\n[318.68122559 246.47859012   0.43737882]\nMultiplying\n[[  1   0   0]\n [  0   1   0]\n [  0   0 400]]\nwith\n[204.98231907 390.5749795    0.69865921]\nMultiplying\n[[  1   0   0]\n [  0   1   0]\n [  0   0 400]]\nwith\n[299.38198471 356.35677875   0.38590733]\nMultiplying\n[[  1   0   0]\n [  0   1   0]\n [  0   0 400]]\nwith\n[2.18131111e+02 3.92907417e+02 2.81440333e-01]\nMultiplying\n[[  1   0   0]\n [  0   1   0]\n [  0   0 400]]\nwith\n[1.33994812e+02 4.34968096e+02 4.20089046e-01]\nMultiplying\n[[  1   0   0]\n [  0   1   0]\n [  0   0 400]]\nwith\n[373.66295923  90.8437277    0.37607595]\nMultiplying\n[[  1   0   0]\n [  0   1   0]\n [  0   0 400]]\nwith\n[4.58570726e+02 1.19093832e+02 2.96527638e-01]\nMultiplying\n[[  1   0   0]\n [  0   1   0]\n [  0   0 400]]\nwith\n[3.86631275e+02 1.84150621e+02 2.46041404e-01]\nMultiplying\n[[  1   0   0]\n [  0   1   0]\n [  0   0 400]]\nwith\n[3.33574081e+02 1.42159761e+02 3.05057353e-01]\n"
     ]
    }
   ],
   "source": [
    "reconstructed = [get_3d_rec(x, y, T1, T2) for x, y in zip(img1, img2)]\n",
    "reconstructed = np.array(reconstructed)\n",
    "\n",
    "def mul400(x):\n",
    "    print(f'Multiplying\\n{np.diag([1, 1, 400])}\\nwith\\n{x}')\n",
    "    return np.diag([1, 1, 400]) @ x\n",
    "\n",
    "mul400fast = np.vectorize(mul400)\n",
    "\n",
    "reconstructed400 = np.array([mul400(x) for x in reconstructed])\n"
   ]
  },
  {
   "cell_type": "code",
   "execution_count": 318,
   "metadata": {},
   "outputs": [
    {
     "output_type": "stream",
     "name": "stdout",
     "text": [
      "[[491.84353036   1.59313908 203.60658798]\n [504.61431592  28.35551747 178.86849645]\n [462.90170064 132.73681428 210.23014481]\n [451.53824135 124.86509964 253.90768627]\n [383.93229516 128.68942693 154.80525195]\n [402.59795558 134.0814793  141.09224395]\n [341.96774372 238.66413756 154.19331627]\n [318.68122559 246.47859012 174.95152628]\n [204.98231907 390.5749795  279.46368408]\n [299.38198471 356.35677875 154.36293064]\n [218.13111056 392.90741712 112.57613311]\n [133.99481211 434.96809643 168.03561831]\n [373.66295923  90.8437277  150.43037928]\n [458.57072564 119.09383245 118.611055  ]\n [386.63127509 184.15062058  98.41656141]\n [333.57408108 142.15976065 122.0229413 ]]\n"
     ]
    }
   ],
   "source": [
    "print(reconstructed400)"
   ]
  }
 ],
 "metadata": {
  "kernelspec": {
   "display_name": "Python 3",
   "language": "python",
   "name": "python3"
  },
  "language_info": {
   "codemirror_mode": {
    "name": "ipython",
    "version": 3
   },
   "file_extension": ".py",
   "mimetype": "text/x-python",
   "name": "python",
   "nbconvert_exporter": "python",
   "pygments_lexer": "ipython3",
   "version": "3.9.0-final"
  }
 },
 "nbformat": 4,
 "nbformat_minor": 4
}