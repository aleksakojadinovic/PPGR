{
 "cells": [
  {
   "cell_type": "code",
   "execution_count": 1,
   "metadata": {
    "id": "0GLvvJebs3xO"
   },
   "outputs": [],
   "source": [
    "import numpy as np\n",
    "import matplotlib.pyplot as plt"
   ]
  },
  {
   "cell_type": "code",
   "execution_count": 2,
   "metadata": {
    "id": "Z3m_V0ARYYjf"
   },
   "outputs": [],
   "source": [
    "def to_affine(p):\n",
    "  if len(p) == 2:\n",
    "    return np.array([float(x) for x in p])\n",
    "  if p[2] == 0:\n",
    "    return None\n",
    "  return np.array([1.0*p[0]/p[2], 1.0*p[1]/p[2]])\n",
    "\n"
   ]
  },
  {
   "cell_type": "code",
   "execution_count": 3,
   "metadata": {
    "id": "ztrM3ViYY5R2"
   },
   "outputs": [],
   "source": [
    "def to_projective(p):\n",
    "  if len(p) == 3:\n",
    "    return np.array([float(x) for x in p])\n",
    "  return np.array([1.0*p[0], 1.0*p[1], 1.0])\n"
   ]
  },
  {
   "cell_type": "code",
   "execution_count": 4,
   "metadata": {
    "id": "FT6yK1HTZKst"
   },
   "outputs": [],
   "source": [
    "def naiive(originals, images, round=5):\n",
    "  [A, B, C, D] = list(map(to_projective, originals))\n",
    "  [Ap, Bp, Cp, Dp] = list(map(to_projective, images))\n",
    "\n",
    "  [alfa, beta, gamma] = list(\n",
    "                          np.matmul(np.linalg.inv(np.array([A, B, C]).T), np.array([D]).T)\n",
    "                            )\n",
    "  \n",
    "  [alfap, betap, gammap] = list(\n",
    "                          np.matmul(np.linalg.inv(np.array([Ap, Bp, Cp]).T), np.array([Dp]).T)\n",
    "                               )\n",
    "\n",
    "  P1 = np.array([alfa*A, beta*B, gamma*C]).T\n",
    "  P2 = np.array([alfap*Ap, betap*Bp, gammap*Cp]).T\n",
    "\n",
    "  P = np.matmul(P2, np.linalg.inv(P1))\n",
    "  if round == 'no':\n",
    "    return P\n",
    "  return np.round(P, decimals=round)\n",
    "  "
   ]
  },
  {
   "cell_type": "code",
   "execution_count": 5,
   "metadata": {
    "id": "u_3Jnooag1VE"
   },
   "outputs": [],
   "source": [
    "def DLT(originals, images, round=5):\n",
    "  originals = map(to_projective, originals)\n",
    "  images = map(to_projective, images)\n",
    "\n",
    "  A = np.empty(shape=(0, 9))\n",
    "  for Mi, Mip in zip(originals, images):\n",
    "    row1 = np.array([0, 0, 0])\n",
    "    row1 = np.hstack((row1, -Mi*np.array([Mip[2]*3])))\n",
    "    row1 = np.hstack((row1, +Mi*np.array([Mip[1]*3])))\n",
    "\n",
    "    row2 = np.array(+Mi*np.array([Mip[2]*3]))\n",
    "    row2 = np.hstack((row2, +np.array([0, 0, 0])))\n",
    "    row2 = np.hstack((row2, -Mi*np.array([Mip[0]*3])))\n",
    "\n",
    "    A = np.vstack((A, row1))\n",
    "    A = np.vstack((A, row2))\n",
    "\n",
    "  _, _, v = np.linalg.svd(A, full_matrices=True)\n",
    "  v = v.T[:, -1].reshape((3, 3))\n",
    "  if round == 'no':\n",
    "    return v\n",
    "  return np.round(v, decimals=round)\n",
    "\n",
    "  "
   ]
  },
  {
   "cell_type": "code",
   "execution_count": 6,
   "metadata": {
    "id": "RlLrBE_iXfJP"
   },
   "outputs": [],
   "source": [
    "def affine_centroid_and_dist(pts):\n",
    "  pts = list(map(to_affine, pts))\n",
    "  ac = np.sum(pts, axis=0)/len(pts)\n",
    "  cendist = lambda p: np.sqrt((p[0] - ac[0])**2 + (p[1] - ac[1])**2)\n",
    "  avgdist = np.average(list(map(cendist, pts)))\n",
    "  return ac, avgdist\n",
    "\n",
    "def get_scale_matrix(coeff):\n",
    "  return np.array([[coeff, 0, 0],\n",
    "                   [0, coeff, 0],\n",
    "                   [0, 0, 1]])\n",
    "\n",
    "def get_translation_matrix(vec):\n",
    "  return np.array([[1, 0, vec[0]],\n",
    "                   [0, 1, vec[1]],\n",
    "                   [0, 0, 1]])\n",
    "\n",
    "def get_normalization_marix(pts):\n",
    "  ac, avdist = affine_centroid_and_dist(pts)\n",
    "  s = get_scale_matrix(np.sqrt(2)/avdist)\n",
    "  g = get_translation_matrix(-ac)\n",
    "  return np.matmul(s, g)"
   ]
  },
  {
   "cell_type": "code",
   "execution_count": 7,
   "metadata": {
    "id": "fMNtU7nkW3y9"
   },
   "outputs": [],
   "source": [
    "def DLT_norm(originals, images, round=5):\n",
    "  T =  get_normalization_marix(originals)\n",
    "  Tp = get_normalization_marix(images)\n",
    "\n",
    "  M_normal  = [np.matmul(T, o)  for o in originals]\n",
    "  Mp_normal = [np.matmul(Tp, i) for i in images]\n",
    "\n",
    "  Pbar = DLT(M_normal, Mp_normal)\n",
    "\n",
    "  P = np.matmul(np.matmul(np.linalg.inv(Tp), Pbar), T)\n",
    "  if round == 'no':\n",
    "    return P\n",
    "  return np.round(P, decimals=round)"
   ]
  },
  {
   "cell_type": "code",
   "execution_count": 8,
   "metadata": {
    "colab": {
     "base_uri": "https://localhost:8080/"
    },
    "id": "XEuh0tb5rj-r",
    "outputId": "e3886f97-9356-4f5c-b44f-919e5babb0c5"
   },
   "outputs": [
    {
     "name": "stdout",
     "output_type": "stream",
     "text": [
      "Trazimo transformaciju koja slika tacke na sledeci nacin:\n",
      "(-3,-1)\t--->\t(-2,-1)\n",
      "( 3,-1)\t--->\t( 2,-1)\n",
      "( 1, 1)\t--->\t( 2, 1)\n",
      "(-1, 1)\t--->\t(-2, 1) \n",
      "\n",
      "Matrica preslikavanja naivnim algoritmom:\n",
      "P1=\n",
      "[[ 2.  0.  0.]\n",
      " [ 0.  2. -1.]\n",
      " [ 0. -1.  2.]]\n",
      "\n",
      "Matrica preslikavanja DLT algoritmom:\n",
      "P2=\n",
      "[[ 5.34522484e-01 -5.25651793e-16  7.68809464e-16]\n",
      " [-1.11022302e-16  5.34522484e-01 -2.67261242e-01]\n",
      " [ 1.11022302e-16 -2.67261242e-01  5.34522484e-01]]\n",
      "\n",
      "Skalirana DLT matrica, zaokruzena na 5 decimala:\n",
      "P2s=\n",
      "[[ 2. -0.  0.]\n",
      " [-0.  2. -1.]\n",
      " [ 0. -1.  2.]]\n",
      "\n",
      "Zakljucujemo da se radi o istom preslikavanju.\n",
      "=====================================================\n",
      "Dodajemo jos dve tacke, sada trazimo preslikavanje (projektivne koordinate):\n",
      "(-3.0 :-1.0 : 1.0 )\t--->\t(-2.0 :-1.0 : 1.0 )\n",
      "( 3.0 :-1.0 : 1.0 )\t--->\t( 2.0 :-1.0 : 1.0 )\n",
      "( 1.0 : 1.0 : 1.0 )\t--->\t( 2.0 : 1.0 : 1.0 )\n",
      "(-1.0 : 1.0 : 1.0 )\t--->\t(-2.0 : 1.0 : 1.0 )\n",
      "( 1.0 : 2.0 : 3.0 )\t--->\t( 2.0 : 1.0 : 4.0 )\n",
      "(-8.0 :-2.0 : 1.0 )\t--->\t(-16.0 :-5.0 : 4.0 ) \n",
      "\n",
      "Matrica preslikavanja 6 tacaka DLT algoritmom:\n",
      "P3=\n",
      "[[-5.34522484e-01  4.44089210e-16 -6.06719536e-16]\n",
      " [ 5.55111512e-17 -5.34522484e-01  2.67261242e-01]\n",
      " [-2.08166817e-16  2.67261242e-01 -5.34522484e-01]]\n",
      "\n",
      "Skalirana matrica zaokruzena na 5 decimala:\n",
      "P3s=\n",
      "[[ 2. -0.  0.]\n",
      " [-0.  2. -1.]\n",
      " [ 0. -1.  2.]]\n",
      "\n",
      "Ponovo dobijamo isto preslikavanje.\n",
      "=====================================================\n",
      "Matrica preslikavanja 6 tacaka DLT algoritmom sa normalizacijom:\n",
      "P4=\n",
      "[[ 0.397    0.       0.     ]\n",
      " [ 0.       0.39701 -0.19849]\n",
      " [ 0.      -0.1985   0.397  ]]\n",
      "\n",
      "Skalirana matrica zaokruzena na 5 decimala:\n",
      "P4s=\n",
      "[[ 2.       0.       0.     ]\n",
      " [ 0.       2.00005 -0.99995]\n",
      " [ 0.      -1.       2.     ]]\n",
      "\n",
      "U ovom slucaju ne dobijamo isto preslikavanje vec priblizno.\n"
     ]
    }
   ],
   "source": [
    "def npp(p):\n",
    "  if len(p) == 2:\n",
    "    delim = ','\n",
    "    extra = ''\n",
    "  else:\n",
    "    delim = ':'\n",
    "    extra = ' '\n",
    "  return \"(\" + delim.join([str(c) + extra if c < 0 else \" \" + str(c) + extra for c in p]) + \")\"\n",
    "\n",
    "def problem_string(o, i):\n",
    "  return \"\\n\".join([f'{npp(a)}\\t--->\\t{npp(b)}' for a, b in zip(o, i)])\n",
    "\n",
    "def at(P, a):\n",
    "  return np.matmul(P, to_projective(a).T)\n",
    "\n",
    "def demonstration():\n",
    "  a  =   [-3,-1]\n",
    "  b  =   [+3,-1]\n",
    "  c  =   [+1,+1]\n",
    "  d  =   [-1,+1]\n",
    "  ap =   [-2,-1]\n",
    "  bp =   [+2,-1]\n",
    "  cp =   [+2,+1]\n",
    "  dp =   [-2,+1]\n",
    "  originals = [a, b, c, d]\n",
    "  images = [ap, bp, cp, dp]\n",
    "  print(f'Trazimo transformaciju koja slika tacke na sledeci nacin:')\n",
    "  print(problem_string(originals, images), '\\n')\n",
    "\n",
    "  P1 = naiive(originals, images, round='no')\n",
    "  print(f'Matrica preslikavanja naivnim algoritmom:\\nP1=\\n{P1}\\n')\n",
    "\n",
    "  P2 = DLT(originals, images, round='no')\n",
    "  print(f'Matrica preslikavanja DLT algoritmom:\\nP2=\\n{P2}\\n')\n",
    "\n",
    "  P2scaled = (P1[0][0] / P2[0][0])*P2\n",
    "  print(f'Skalirana DLT matrica, zaokruzena na 5 decimala:\\nP2s=\\n{np.round(P2scaled, 5)}\\n')\n",
    "  print(f'Zakljucujemo da se radi o istom preslikavanju.')\n",
    "\n",
    "  print('=====================================================')\n",
    "\n",
    "  e = [1, 2, 3]\n",
    "  f = [-8, -2, 1]\n",
    "  ep = at(P1, e)\n",
    "  fp = at(P1, f)\n",
    "  originals = list(map(to_projective, originals + [e, f]))\n",
    "  images = list(map(to_projective, images + [ep, fp]))\n",
    "  print(f'Dodajemo jos dve tacke, sada trazimo preslikavanje (projektivne koordinate):')\n",
    "  print(problem_string(originals, images), '\\n')\n",
    "\n",
    "  P3 = DLT(originals, images, round='no')\n",
    "  print(f'Matrica preslikavanja 6 tacaka DLT algoritmom:\\nP3=\\n{P3}\\n')\n",
    "  P3scaled = np.round((P1[0][0]/P3[0][0]) * P3, 5)\n",
    "\n",
    "  print(f'Skalirana matrica zaokruzena na 5 decimala:\\nP3s=\\n{P3scaled}\\n')\n",
    "  print(f'Ponovo dobijamo isto preslikavanje.')\n",
    "  print('=====================================================')\n",
    "\n",
    "  P4 = DLT_norm(originals, images)\n",
    "  print(f'Matrica preslikavanja 6 tacaka DLT algoritmom sa normalizacijom:\\nP4=\\n{P4}\\n')\n",
    "  P4s = np.round((P1[0][0]/P4[0][0])*P4, 5)\n",
    "  print(f'Skalirana matrica zaokruzena na 5 decimala:\\nP4s=\\n{P4s}\\n')\n",
    "  print(f'U ovom slucaju ne dobijamo isto preslikavanje vec priblizno.')\n",
    "  \n",
    "\n",
    "  \n",
    "\n",
    "\n",
    "\n",
    "\n",
    "  \n",
    "demonstration()"
   ]
  },
  {
   "cell_type": "code",
   "execution_count": 9,
   "metadata": {
    "colab": {
     "base_uri": "https://localhost:8080/"
    },
    "id": "kShfbkEW8Dag",
    "outputId": "df4a5ebf-2d1d-4f10-9006-b2cf66ed1f17"
   },
   "outputs": [],
   "source": []
  }
 ],
 "metadata": {
  "colab": {
   "collapsed_sections": [],
   "name": "PPGR_DOMACI_2.ipynb",
   "provenance": []
  },
  "kernelspec": {
   "display_name": "Python 3",
   "language": "python",
   "name": "python3"
  },
  "language_info": {
   "codemirror_mode": {
    "name": "ipython",
    "version": 3
   },
   "file_extension": ".py",
   "mimetype": "text/x-python",
   "name": "python",
   "nbconvert_exporter": "python",
   "pygments_lexer": "ipython3",
   "version": "3.7.3"
  }
 },
 "nbformat": 4,
 "nbformat_minor": 1
}
