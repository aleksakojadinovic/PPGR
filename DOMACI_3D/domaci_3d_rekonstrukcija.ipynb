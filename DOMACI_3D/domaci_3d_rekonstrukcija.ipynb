{
 "cells": [
  {
   "cell_type": "code",
   "execution_count": 28,
   "metadata": {},
   "outputs": [],
   "source": [
    "import numpy as np\n",
    "import numpy.linalg as la"
   ]
  },
  {
   "cell_type": "code",
   "execution_count": 3,
   "metadata": {},
   "outputs": [],
   "source": [
    "points_left = [[958, 38, 1],\n",
    "               [1117, 111, 1],\n",
    "               [874, 285, 1],\n",
    "               [707, 218, 1],\n",
    "               [292, 569, 1],\n",
    "               [770, 969, 1],\n",
    "               [770, 1465, 1],\n",
    "               [317, 1057, 1]]\n",
    "points_right = [[933, 33, 1],\n",
    "                [1027, 132, 1],\n",
    "                [692, 223, 1],\n",
    "                [595, 123, 1],\n",
    "                [272, 360, 1],\n",
    "                [432, 814, 1],\n",
    "                [414, 1284, 1],\n",
    "                [258, 818, 1]]\n",
    "\n",
    "points_left = np.array(points_left)\n",
    "points_right = np.array(points_right)"
   ]
  },
  {
   "cell_type": "code",
   "execution_count": 94,
   "metadata": {},
   "outputs": [
    {
     "output_type": "stream",
     "name": "stdout",
     "text": [
      "LEVA \t--> DESNA: \n==================================\n(958, 38, 1) \t--> (933, 33, 1)\n(1117, 111, 1) \t--> (1027, 132, 1)\n(874, 285, 1) \t--> (692, 223, 1)\n(707, 218, 1) \t--> (595, 123, 1)\n(292, 569, 1) \t--> (272, 360, 1)\n(770, 969, 1) \t--> (432, 814, 1)\n(770, 1465, 1) \t--> (414, 1284, 1)\n(317, 1057, 1) \t--> (258, 818, 1)\n"
     ]
    }
   ],
   "source": [
    "print('LEVA \\t--> DESNA: ', '==================================', sep='\\n')\n",
    "print('\\n'.join([f'{(a[0], a[1], a[2])} \\t--> {(b[0], b[1], b[2])}' for a, b in zip(points_left, points_right)]))\n"
   ]
  },
  {
   "cell_type": "code",
   "execution_count": 95,
   "metadata": {},
   "outputs": [],
   "source": [
    "def get_vec_product_matrix(v):\n",
    "    p1, p2, p3 = v\n",
    "    return np.array([[0, -p3, p2],\n",
    "                     [p3, 0, -p1],\n",
    "                     [-p2, p1, 0]])"
   ]
  },
  {
   "cell_type": "code",
   "execution_count": 24,
   "metadata": {},
   "outputs": [],
   "source": [
    "def get_eq(x, y):\n",
    "    a1, a2, a3 = x\n",
    "    b1, b2, b3 = y\n",
    "    return np.array([a1*b1, a2*b1, a3*b1, a1*b2, a2*b2, a3*b2, a1*b3, a2*b3, a3*b3])\n",
    "    "
   ]
  },
  {
   "cell_type": "code",
   "execution_count": 29,
   "metadata": {},
   "outputs": [],
   "source": [
    "def get_f_system(xs, ys):\n",
    "    return np.array([get_eq(x, y) for x, y in zip(xs, ys)])"
   ]
  },
  {
   "cell_type": "code",
   "execution_count": 83,
   "metadata": {},
   "outputs": [],
   "source": [
    "def solve_system_matrix(M):\n",
    "    _, _, v = la.svd(M)\n",
    "    return np.reshape(v[-1], (3, 3))\n"
   ]
  },
  {
   "cell_type": "code",
   "execution_count": 90,
   "metadata": {},
   "outputs": [],
   "source": [
    "def get_epipoles(F):\n",
    "    u, _, v = la.svd(F)\n",
    "    e1 = v[-1]\n",
    "    e2 = u.T[-1]\n",
    "    e1 = (1.0/e1[2])*e1\n",
    "    e2 = (1.0/e2[2])*e2\n",
    "    return e1, e2"
   ]
  },
  {
   "cell_type": "code",
   "execution_count": 117,
   "metadata": {},
   "outputs": [],
   "source": [
    "def get_T1():\n",
    "    return np.hstack((np.eye(3), np.array([[0], [0], [0]])))\n",
    "\n",
    "def get_T2():\n",
    "\n",
    "    pass"
   ]
  },
  {
   "cell_type": "code",
   "execution_count": 111,
   "metadata": {},
   "outputs": [
    {
     "output_type": "stream",
     "text": [
      "\u001b[1;31mSignature:\u001b[0m \u001b[0mnp\u001b[0m\u001b[1;33m.\u001b[0m\u001b[0mvstack\u001b[0m\u001b[1;33m(\u001b[0m\u001b[0mtup\u001b[0m\u001b[1;33m)\u001b[0m\u001b[1;33m\u001b[0m\u001b[1;33m\u001b[0m\u001b[0m\n",
      "\u001b[1;31mDocstring:\u001b[0m\n",
      "Stack arrays in sequence vertically (row wise).\n",
      "\n",
      "This is equivalent to concatenation along the first axis after 1-D arrays\n",
      "of shape `(N,)` have been reshaped to `(1,N)`. Rebuilds arrays divided by\n",
      "`vsplit`.\n",
      "\n",
      "This function makes most sense for arrays with up to 3 dimensions. For\n",
      "instance, for pixel-data with a height (first axis), width (second axis),\n",
      "and r/g/b channels (third axis). The functions `concatenate`, `stack` and\n",
      "`block` provide more general stacking and concatenation operations.\n",
      "\n",
      "Parameters\n",
      "----------\n",
      "tup : sequence of ndarrays\n",
      "    The arrays must have the same shape along all but the first axis.\n",
      "    1-D arrays must have the same length.\n",
      "\n",
      "Returns\n",
      "-------\n",
      "stacked : ndarray\n",
      "    The array formed by stacking the given arrays, will be at least 2-D.\n",
      "\n",
      "See Also\n",
      "--------\n",
      "concatenate : Join a sequence of arrays along an existing axis.\n",
      "stack : Join a sequence of arrays along a new axis.\n",
      "block : Assemble an nd-array from nested lists of blocks.\n",
      "hstack : Stack arrays in sequence horizontally (column wise).\n",
      "dstack : Stack arrays in sequence depth wise (along third axis).\n",
      "column_stack : Stack 1-D arrays as columns into a 2-D array.\n",
      "vsplit : Split an array into multiple sub-arrays vertically (row-wise).\n",
      "\n",
      "Examples\n",
      "--------\n",
      ">>> a = np.array([1, 2, 3])\n",
      ">>> b = np.array([2, 3, 4])\n",
      ">>> np.vstack((a,b))\n",
      "array([[1, 2, 3],\n",
      "       [2, 3, 4]])\n",
      "\n",
      ">>> a = np.array([[1], [2], [3]])\n",
      ">>> b = np.array([[2], [3], [4]])\n",
      ">>> np.vstack((a,b))\n",
      "array([[1],\n",
      "       [2],\n",
      "       [3],\n",
      "       [2],\n",
      "       [3],\n",
      "       [4]])\n",
      "\u001b[1;31mFile:\u001b[0m      c:\\users\\aleksa\\appdata\\local\\programs\\python\\python39\\lib\\site-packages\\numpy\\core\\shape_base.py\n",
      "\u001b[1;31mType:\u001b[0m      function\n"
     ],
     "name": "stdout"
    }
   ],
   "source": [
    "?np.vstack"
   ]
  },
  {
   "cell_type": "code",
   "execution_count": 116,
   "metadata": {},
   "outputs": [
    {
     "output_type": "execute_result",
     "data": {
      "text/plain": [
       "array([[1., 0., 0., 0.],\n",
       "       [0., 1., 0., 0.],\n",
       "       [0., 0., 1., 0.]])"
      ]
     },
     "metadata": {},
     "execution_count": 116
    }
   ],
   "source": [
    "np.eye(3)\n"
   ]
  },
  {
   "cell_type": "code",
   "execution_count": 97,
   "metadata": {},
   "outputs": [],
   "source": [
    "F = solve_system_matrix(get_f_system(points_left, points_right))\n",
    "e1, e2 = get_epipoles(F)"
   ]
  }
 ],
 "metadata": {
  "kernelspec": {
   "display_name": "Python 3",
   "language": "python",
   "name": "python3"
  },
  "language_info": {
   "codemirror_mode": {
    "name": "ipython",
    "version": 3
   },
   "file_extension": ".py",
   "mimetype": "text/x-python",
   "name": "python",
   "nbconvert_exporter": "python",
   "pygments_lexer": "ipython3",
   "version": "3.9.0-final"
  }
 },
 "nbformat": 4,
 "nbformat_minor": 4
}